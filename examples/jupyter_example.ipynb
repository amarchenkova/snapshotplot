{
 "cells": [
  {
   "cell_type": "markdown",
   "metadata": {},
   "source": [
    "# SnapshotPlot Jupyter Integration Example\n",
    "\n",
    "This notebook demonstrates how to use SnapshotPlot in Jupyter notebooks with magic commands and context managers."
   ]
  },
  {
   "cell_type": "code",
   "execution_count": null,
   "metadata": {},
   "outputs": [],
   "source": [
    "# Install snapshotplot if needed\n",
    "# !pip install snapshotplot"
   ]
  },
  {
   "cell_type": "markdown",
   "metadata": {},
   "source": [
    "## Load the SnapshotPlot Extension\n",
    "\n",
    "First, let's load the IPython extension to enable magic commands:"
   ]
  },
  {
   "cell_type": "code",
   "execution_count": null,
   "metadata": {},
   "outputs": [],
   "source": [
    "%load_ext snapshotplot"
   ]
  },
  {
   "cell_type": "markdown",
   "metadata": {},
   "source": [
    "## Method 1: Using Cell Magic\n",
    "\n",
    "Use `%%snapshot` at the beginning of a cell to capture the entire cell's code and output:"
   ]
  },
  {
   "cell_type": "code",
   "execution_count": null,
   "metadata": {},
   "outputs": [],
   "source": [
    "%%snapshot -t \"Sine Wave Analysis\" -a \"Data Science Team\" --tags math visualization\n",
    "import numpy as np\n",
    "import matplotlib.pyplot as plt\n",
    "\n",
    "# Generate sine wave data\n",
    "x = np.linspace(0, 4 * np.pi, 1000)\n",
    "y = np.sin(x)\n",
    "\n",
    "# Create the plot\n",
    "plt.figure(figsize=(10, 6))\n",
    "plt.plot(x, y, 'b-', linewidth=2)\n",
    "plt.title('Sine Wave', fontsize=16)\n",
    "plt.xlabel('x', fontsize=14)\n",
    "plt.ylabel('sin(x)', fontsize=14)\n",
    "plt.grid(True, alpha=0.3)\n",
    "plt.show()"
   ]
  },
  {
   "cell_type": "markdown",
   "metadata": {},
   "source": [
    "## Method 2: Using Line Magic\n",
    "\n",
    "Use `%snapshot` after running a cell to capture the previous cell's output:"
   ]
  },
  {
   "cell_type": "code",
   "execution_count": null,
   "metadata": {},
   "outputs": [],
   "source": [
    "# This cell creates a scatter plot\n",
    "import numpy as np\n",
    "import matplotlib.pyplot as plt\n",
    "\n",
    "# Generate random data\n",
    "np.random.seed(42)\n",
    "x = np.random.randn(100)\n",
    "y = 2 * x + np.random.randn(100) * 0.5\n",
    "\n",
    "# Create scatter plot\n",
    "plt.figure(figsize=(8, 6))\n",
    "plt.scatter(x, y, alpha=0.6, c=x, cmap='viridis')\n",
    "plt.colorbar(label='x value')\n",
    "plt.xlabel('x')\n",
    "plt.ylabel('y')\n",
    "plt.title('Random Scatter Plot')\n",
    "plt.show()"
   ]
  },
  {
   "cell_type": "code",
   "execution_count": null,
   "metadata": {},
   "outputs": [],
   "source": [
    "# Capture the previous cell\n",
    "%snapshot -t \"Scatter Plot Example\" -a \"Research Team\" --description \"Demonstration of random data visualization\""
   ]
  },
  {
   "cell_type": "markdown",
   "metadata": {},
   "source": [
    "## Method 3: Using Context Manager\n",
    "\n",
    "You can also use the notebook-aware context manager:"
   ]
  },
  {
   "cell_type": "code",
   "execution_count": null,
   "metadata": {},
   "outputs": [],
   "source": [
    "from snapshotplot import notebook_snapshot\n",
    "import matplotlib.pyplot as plt\n",
    "import numpy as np\n",
    "\n",
    "with notebook_snapshot(title=\"Histogram Example\", author=\"Analytics Team\"):\n",
    "    # Generate data\n",
    "    data = np.random.normal(100, 15, 1000)\n",
    "    \n",
    "    # Create histogram\n",
    "    plt.figure(figsize=(10, 6))\n",
    "    plt.hist(data, bins=30, density=True, alpha=0.7, color='skyblue', edgecolor='black')\n",
    "    \n",
    "    # Add normal distribution curve\n",
    "    from scipy import stats\n",
    "    x = np.linspace(data.min(), data.max(), 100)\n",
    "    plt.plot(x, stats.norm.pdf(x, 100, 15), 'r-', linewidth=2, label='Normal Distribution')\n",
    "    \n",
    "    plt.xlabel('Value')\n",
    "    plt.ylabel('Density')\n",
    "    plt.title('Histogram with Normal Distribution Overlay')\n",
    "    plt.legend()\n",
    "    plt.grid(True, alpha=0.3)\n",
    "    plt.show()"
   ]
  },
  {
   "cell_type": "markdown",
   "metadata": {},
   "source": [
    "## Method 4: Multiple Plots in One Cell\n",
    "\n",
    "SnapshotPlot can handle cells with multiple plots:"
   ]
  },
  {
   "cell_type": "code",
   "execution_count": null,
   "metadata": {},
   "outputs": [],
   "source": [
    "%%snapshot -t \"Comparison Plots\" --tags comparison analysis\n",
    "import matplotlib.pyplot as plt\n",
    "import numpy as np\n",
    "\n",
    "fig, (ax1, ax2) = plt.subplots(1, 2, figsize=(12, 5))\n",
    "\n",
    "# First plot: Line plot\n",
    "x = np.linspace(0, 10, 100)\n",
    "ax1.plot(x, np.sin(x), label='sin(x)')\n",
    "ax1.plot(x, np.cos(x), label='cos(x)')\n",
    "ax1.set_title('Trigonometric Functions')\n",
    "ax1.set_xlabel('x')\n",
    "ax1.legend()\n",
    "ax1.grid(True)\n",
    "\n",
    "# Second plot: Bar plot\n",
    "categories = ['A', 'B', 'C', 'D', 'E']\n",
    "values = [23, 45, 56, 78, 32]\n",
    "ax2.bar(categories, values, color='orange')\n",
    "ax2.set_title('Category Comparison')\n",
    "ax2.set_ylabel('Values')\n",
    "\n",
    "plt.tight_layout()\n",
    "plt.show()"
   ]
  },
  {
   "cell_type": "markdown",
   "metadata": {},
   "source": [
    "## Integration with Static Site Generation\n",
    "\n",
    "If you have a static site set up, you can automatically add plots to collections:"
   ]
  },
  {
   "cell_type": "code",
   "execution_count": null,
   "metadata": {},
   "outputs": [],
   "source": [
    "%%snapshot -t \"Time Series Analysis\" --site ../my-site --collection research --tags timeseries data-analysis\n",
    "import pandas as pd\n",
    "import numpy as np\n",
    "import matplotlib.pyplot as plt\n",
    "\n",
    "# Generate time series data\n",
    "dates = pd.date_range('2024-01-01', periods=365, freq='D')\n",
    "values = np.cumsum(np.random.randn(365)) + 100\n",
    "\n",
    "# Create time series plot\n",
    "plt.figure(figsize=(12, 6))\n",
    "plt.plot(dates, values, linewidth=1.5)\n",
    "plt.title('Simulated Time Series Data')\n",
    "plt.xlabel('Date')\n",
    "plt.ylabel('Value')\n",
    "plt.grid(True, alpha=0.3)\n",
    "plt.xticks(rotation=45)\n",
    "plt.tight_layout()\n",
    "plt.show()"
   ]
  },
  {
   "cell_type": "markdown",
   "metadata": {},
   "source": [
    "## Checking if Running in Notebook\n",
    "\n",
    "You can also check programmatically if your code is running in a notebook:"
   ]
  },
  {
   "cell_type": "code",
   "execution_count": null,
   "metadata": {},
   "outputs": [],
   "source": [
    "from snapshotplot import is_notebook\n",
    "\n",
    "if is_notebook():\n",
    "    print(\"Running in a Jupyter notebook!\")\n",
    "    print(\"Magic commands are available.\")\n",
    "else:\n",
    "    print(\"Not running in a notebook.\")"
   ]
  },
  {
   "cell_type": "markdown",
   "metadata": {},
   "source": [
    "## Tips and Best Practices\n",
    "\n",
    "1. **Use descriptive titles**: Help your future self by adding meaningful titles to snapshots\n",
    "2. **Tag your work**: Use tags to categorize and organize your analysis\n",
    "3. **Add descriptions**: For complex analyses, add descriptions to explain the context\n",
    "4. **Organize by project**: Use different output directories for different projects\n",
    "5. **Review HTML output**: The generated HTML files provide a clean view of your work"
   ]
  }
 ],
 "metadata": {
  "kernelspec": {
   "display_name": "Python 3",
   "language": "python",
   "name": "python3"
  },
  "language_info": {
   "codemirror_mode": {
    "name": "ipython",
    "version": 3
   },
   "file_extension": ".py",
   "mimetype": "text/x-python",
   "name": "python",
   "nbconvert_exporter": "python",
   "pygments_lexer": "ipython3",
   "version": "3.8.0"
  }
 },
 "nbformat": 4,
 "nbformat_minor": 4
}